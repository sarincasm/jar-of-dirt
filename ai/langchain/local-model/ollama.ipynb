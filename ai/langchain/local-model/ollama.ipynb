{
 "cells": [
  {
   "cell_type": "code",
   "execution_count": 6,
   "metadata": {},
   "outputs": [
    {
     "data": {
      "text/plain": [
       "True"
      ]
     },
     "execution_count": 6,
     "metadata": {},
     "output_type": "execute_result"
    }
   ],
   "source": [
    "from dotenv import load_dotenv\n",
    "load_dotenv()"
   ]
  },
  {
   "cell_type": "code",
   "execution_count": 4,
   "metadata": {},
   "outputs": [
    {
     "data": {
      "text/plain": [
       "'The translation of \"Hello, how are you?\" in German is:\\n\\n\"Hallo, wie geht es Ihnen?\"\\n\\nHere\\'s a breakdown of the translation:\\n\\n* \"Hello\" remains the same\\n* \"how are you\" translates to \"wie geht es Ihnen?\"\\n\\t+ \"Wie\" means \"how\"\\n\\t+ \"geht\" is the verb \"to go\" (in this context it means \"to do\" or \"to get along\")\\n\\t+ \"es\" is a pronoun that refers back to \"Ihnen\", meaning \"it\" (the state of being)\\n\\t+ \"Ihnen\" is the informal second-person plural pronoun, which means \"you\" (plural)'"
      ]
     },
     "execution_count": 4,
     "metadata": {},
     "output_type": "execute_result"
    }
   ],
   "source": [
    "from langchain_community.llms import Ollama\n",
    "\n",
    "llm = Ollama(model=\"llama3\")\n",
    "llm.invoke(\"Translate the following from English into German. Hello, how are you?\")"
   ]
  },
  {
   "cell_type": "code",
   "execution_count": 3,
   "metadata": {},
   "outputs": [],
   "source": [
    "from langchain_community.chat_models import ChatOllama\n",
    "\n",
    "model = ChatOllama(model='llama3')"
   ]
  },
  {
   "cell_type": "code",
   "execution_count": 6,
   "metadata": {},
   "outputs": [
    {
     "data": {
      "text/plain": [
       "AIMessage(content='Ich esse Essen!', response_metadata={'model': 'llama3', 'created_at': '2024-06-02T14:37:17.069985Z', 'message': {'role': 'assistant', 'content': ''}, 'done_reason': 'stop', 'done': True, 'total_duration': 432514708, 'load_duration': 4090333, 'prompt_eval_count': 28, 'prompt_eval_duration': 296099000, 'eval_count': 5, 'eval_duration': 130490000}, id='run-c5ec42c3-e825-44e6-be4a-1aa18d8e2842-0')"
      ]
     },
     "execution_count": 6,
     "metadata": {},
     "output_type": "execute_result"
    }
   ],
   "source": [
    "from langchain_core.messages import HumanMessage, SystemMessage\n",
    "\n",
    "messages = [\n",
    "    SystemMessage(content=\"Translate the following from English into German. Reply only with the translation.\"),\n",
    "    HumanMessage(content=\"I eat food!\"),\n",
    "]\n",
    "\n",
    "model.invoke(messages)"
   ]
  }
 ],
 "metadata": {
  "kernelspec": {
   "display_name": "ofcv1",
   "language": "python",
   "name": "python3"
  },
  "language_info": {
   "codemirror_mode": {
    "name": "ipython",
    "version": 3
   },
   "file_extension": ".py",
   "mimetype": "text/x-python",
   "name": "python",
   "nbconvert_exporter": "python",
   "pygments_lexer": "ipython3",
   "version": "3.10.14"
  }
 },
 "nbformat": 4,
 "nbformat_minor": 2
}
