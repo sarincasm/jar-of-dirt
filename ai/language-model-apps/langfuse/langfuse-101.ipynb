{
 "cells": [
  {
   "cell_type": "markdown",
   "metadata": {},
   "source": [
    "Based on [this guide](https://langfuse.com/docs/integrations/openai/python/get-started)"
   ]
  },
  {
   "cell_type": "code",
   "execution_count": null,
   "metadata": {},
   "outputs": [],
   "source": [
    "%pip install langfuse openai --upgrade"
   ]
  },
  {
   "cell_type": "code",
   "execution_count": null,
   "metadata": {},
   "outputs": [],
   "source": [
    "# instead of: import openai\n",
    "from langfuse.openai import openai"
   ]
  },
  {
   "cell_type": "code",
   "execution_count": null,
   "metadata": {},
   "outputs": [],
   "source": [
    "# For debugging, checks the SDK connection with the server. Do not use in production as it adds latency.\n",
    "openai.langfuse_auth_check()"
   ]
  },
  {
   "cell_type": "code",
   "execution_count": null,
   "metadata": {},
   "outputs": [],
   "source": [
    "completion = openai.chat.completions.create(\n",
    "    name=\"test-chat\",\n",
    "    model=\"gpt-3.5-turbo\",\n",
    "    messages=[\n",
    "        {\n",
    "            \"role\": \"system\",\n",
    "            \"content\": \"You are a very accurate calculator. You output only the result of the calculation.\",\n",
    "        },\n",
    "        {\"role\": \"user\", \"content\": \"1 + 1 = \"},\n",
    "    ],\n",
    "    temperature=0,\n",
    "    metadata={\"someMetadataKey\": \"someValue\"},\n",
    ")"
   ]
  },
  {
   "cell_type": "code",
   "execution_count": null,
   "metadata": {},
   "outputs": [],
   "source": [
    "from langfuse.openai import openai\n",
    "from langfuse.decorators import observe\n",
    "\n",
    "\n",
    "@observe()  # decorator to automatically create trace and nest generations\n",
    "def main(country: str, user_id: str, **kwargs) -> str:\n",
    "    # nested generation 1: use openai to get capital of country\n",
    "    capital = (\n",
    "        openai.chat.completions.create(\n",
    "            name=\"geography-teacher\",\n",
    "            model=\"gpt-3.5-turbo\",\n",
    "            messages=[\n",
    "                {\n",
    "                    \"role\": \"system\",\n",
    "                    \"content\": \"You are a Geography teacher helping students learn the capitals of countries. Output only the capital when being asked.\",\n",
    "                },\n",
    "                {\"role\": \"user\", \"content\": country},\n",
    "            ],\n",
    "            temperature=0,\n",
    "        )\n",
    "        .choices[0]\n",
    "        .message.content\n",
    "    )\n",
    "\n",
    "    # nested generation 2: use openai to write poem on capital\n",
    "    poem = (\n",
    "        openai.chat.completions.create(\n",
    "            name=\"poet\",\n",
    "            model=\"gpt-3.5-turbo\",\n",
    "            messages=[\n",
    "                {\n",
    "                    \"role\": \"system\",\n",
    "                    \"content\": \"You are a poet. Create a poem about a city.\",\n",
    "                },\n",
    "                {\"role\": \"user\", \"content\": capital},\n",
    "            ],\n",
    "            temperature=1,\n",
    "            max_tokens=200,\n",
    "        )\n",
    "        .choices[0]\n",
    "        .message.content\n",
    "    )\n",
    "\n",
    "    return poem\n",
    "\n",
    "\n",
    "# run main function and let Langfuse decorator do the rest\n",
    "print(main(\"Bulgaria\", \"admin\"))"
   ]
  }
 ],
 "metadata": {
  "language_info": {
   "name": "python"
  }
 },
 "nbformat": 4,
 "nbformat_minor": 2
}
